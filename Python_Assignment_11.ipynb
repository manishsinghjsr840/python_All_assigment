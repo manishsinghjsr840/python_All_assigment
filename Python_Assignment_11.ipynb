{
 "cells": [
  {
   "attachments": {},
   "cell_type": "markdown",
   "metadata": {},
   "source": [
    "Python Assignment_11 "
   ]
  },
  {
   "attachments": {},
   "cell_type": "markdown",
   "metadata": {},
   "source": [
    "1. Create an assert statement that throws an AssertionError if the variable spam is a negative integer.\n",
    "\n",
    "2. Write an assert statement that triggers an AssertionError if the variables eggs and bacon contain strings that are the same as each other, even if their cases are different (that is, 'hello' and 'hello' are considered the same, and 'goodbye' and 'GOODbye' are also considered the same).\n",
    "\n",
    "3. Create an assert statement that throws an AssertionError every time.\n",
    "\n",
    "4. What are the two lines that must be present in your software in order to call logging.debug()?\n",
    "\n",
    "5. What are the two lines that your program must have in order to have logging.debug() send a logging message to a file named programLog.txt?\n",
    "\n",
    "6. What are the five levels of logging?\n",
    "\n",
    "7. What line of code would you add to your software to disable all logging messages?\n",
    "\n",
    "8. Why is using logging messages better than using print() to display the same message?\n",
    "\n",
    "9. What are the differences between the Step Over, Step In, and Step Out buttons in the debugger?\n",
    "\n",
    "10. After you click Continue, when will the debugger stop ?\n",
    "\n",
    "11. What is the concept of a breakpoint?"
   ]
  },
  {
   "cell_type": "code",
   "execution_count": 38,
   "metadata": {},
   "outputs": [
    {
     "data": {
      "text/plain": [
       "'Addition of a : 5 and b : 9 is : 14'"
      ]
     },
     "execution_count": 38,
     "metadata": {},
     "output_type": "execute_result"
    }
   ],
   "source": [
    "# 1. Create an assert statement that throws an AssertionError if the variable spam is a negative integer.\n",
    "\n",
    "def test_assert(a,b):\n",
    "    try:\n",
    "        assert a >= 0,(f\"Variable {a} is a negative integer\")\n",
    "        assert b >= 0,(f\"Variable {b} is a negative integer\")\n",
    "\n",
    "        Add_method = (a+b)\n",
    "        return(f\"Addition of a : {a} and b : {b} is : {Add_method}\")\n",
    "\n",
    "    except AssertionError as msg:\n",
    "        return msg\n",
    "    \n",
    "\n",
    "test_assert(5,9)"
   ]
  },
  {
   "cell_type": "code",
   "execution_count": 25,
   "metadata": {},
   "outputs": [
    {
     "data": {
      "text/plain": [
       "AssertionError('variable spam -5 is a negative integer')"
      ]
     },
     "execution_count": 25,
     "metadata": {},
     "output_type": "execute_result"
    }
   ],
   "source": [
    "def test_assert1(spam):\n",
    "\n",
    "    try:\n",
    "        assert spam >=0, (f\"variable spam {spam} is a negative integer\")\n",
    "\n",
    "    except AssertionError as msg:\n",
    "        return (msg)\n",
    "\n",
    "\n",
    "test_assert1(-5)"
   ]
  },
  {
   "cell_type": "code",
   "execution_count": 99,
   "metadata": {},
   "outputs": [
    {
     "name": "stdout",
     "output_type": "stream",
     "text": [
      "Input_1 is GOODbye and input_2 is bye , they are not similer\n"
     ]
    }
   ],
   "source": [
    "# 2. Write an assert statement that triggers an AssertionError if the variables eggs and bacon contain strings that are the same as each other, even if their cases are different (that is, 'hello' and 'hello' are considered the same, and 'goodbye' and 'GOODbye' are also considered the same).\n",
    "\n",
    "def assert_2_variable(eggs,bacon):\n",
    "\n",
    "    try:\n",
    "        assert eggs.lower() != bacon.lower(), \"Variables 'eggs' and 'bacon' contain the same string.\"\n",
    "        print(f\"Input_1 is {eggs} and input_2 is {bacon} , they are not similer\")\n",
    "\n",
    "    except AssertionError as msg:\n",
    "        return (msg)\n",
    "\n",
    "assert_2_variable(\"GOODbye\",\"bye\")"
   ]
  },
  {
   "cell_type": "code",
   "execution_count": 100,
   "metadata": {},
   "outputs": [
    {
     "data": {
      "text/plain": [
       "AssertionError(\"Variables 'eggs' and 'bacon' contain the same string.\")"
      ]
     },
     "execution_count": 100,
     "metadata": {},
     "output_type": "execute_result"
    }
   ],
   "source": [
    "assert_2_variable(\"GOODbye\",\"goodbye\")"
   ]
  },
  {
   "cell_type": "code",
   "execution_count": 116,
   "metadata": {},
   "outputs": [
    {
     "data": {
      "text/plain": [
       "AssertionError()"
      ]
     },
     "execution_count": 116,
     "metadata": {},
     "output_type": "execute_result"
    }
   ],
   "source": [
    "# 3. Create an assert statement that throws an AssertionError every time.\n",
    "\n",
    "def assert_always():\n",
    "    #x=int(input())\n",
    "    try:\n",
    "        assert False\n",
    "        # In both conditiotns it will work \n",
    "        #assert 0 > x < 0 ,\"X is less then or greater than 0\"\n",
    "\n",
    "    except AssertionError as msg:\n",
    "        return msg\n",
    "    \n",
    "assert_always()"
   ]
  },
  {
   "cell_type": "code",
   "execution_count": 2,
   "metadata": {},
   "outputs": [],
   "source": [
    "# 4. What are the two lines that must be present in your software in order to call logging.debug()?\n",
    "\n",
    "import logging\n",
    "logging.basicConfig(level=logging.DEBUG)"
   ]
  },
  {
   "cell_type": "code",
   "execution_count": 4,
   "metadata": {},
   "outputs": [],
   "source": [
    "# 5. What are the two lines that your program must have in order to have logging.debug() send a logging message to a file named programLog.txt?\n",
    "\n",
    "import logging\n",
    "logging.basicConfig(filename=\"programLog.txt\",level=logging.DEBUG)\n",
    "logging."
   ]
  },
  {
   "attachments": {},
   "cell_type": "markdown",
   "metadata": {},
   "source": [
    " 6. What are the five levels of logging?\n",
    "\n",
    "- Debug\n",
    "- Info\n",
    "- Warning\n",
    "- Error\n",
    "- Critical"
   ]
  },
  {
   "cell_type": "code",
   "execution_count": 6,
   "metadata": {},
   "outputs": [],
   "source": [
    "# 7. What line of code would you add to your software to disable all logging messages?\n",
    "\n",
    "logging.disable(logging.CRITICAL)\n"
   ]
  },
  {
   "attachments": {},
   "cell_type": "markdown",
   "metadata": {},
   "source": [
    "8. Why is using logging messages better than using print() to display the same message?\n",
    "\n",
    "- Logging has different levels of severity that allows us to display log messages according to the level you want. A print statement does not give you that flexibility\n",
    "\n",
    "- Logging allows you to direct the log messages to separate files that can then be used for post analysis while the same is not easily available with print statement\n",
    "\n",
    "- You can set different log levels at individual code file level as well - some files may have INFO level while some may have DEBUG level"
   ]
  },
  {
   "attachments": {},
   "cell_type": "markdown",
   "metadata": {},
   "source": [
    "9. What are the differences between the Step Over, Step In, and Step Out buttons in the debugger?\n",
    "\n",
    "- Step Into: Step Into is used for debugging the test steps line by line\n",
    "When the procedure gets called, Step Into enables you to get inside the procedure and debugs the procedure steps line by line.\n",
    "\n",
    "- Step Over: Step Over will enable, only after the debugging is started with Step Into / Run From Step / Run to Step. Step Over is used for debugging the\n",
    "test steps line by line, but when the procedure is called, the entire procedure call will be executed as single step. The cursor never gets inside the\n",
    "procedure.\n",
    "\n",
    "- Step Out: Step Out will enable, only after the debugging cursor gets inside a procedure. The cursor will get inside a procedure only when the test is\n",
    "debugged with Step Into."
   ]
  },
  {
   "attachments": {},
   "cell_type": "markdown",
   "metadata": {},
   "source": [
    "10. After you click Continue, when will the debugger stop ?\n",
    "\n",
    "- If there is a breakpoint set in the code, the debugger will stop when it reaches that breakpoint\n",
    "- If an exception is raised during the program's execution, the debugger will pause and stop at the point where the exception occurs\n",
    "- If the program completes its execution without encountering any breakpoints or exceptions, the debugger will stop when the program finishes running. "
   ]
  },
  {
   "attachments": {},
   "cell_type": "markdown",
   "metadata": {},
   "source": [
    "11. What is the concept of a breakpoint?\n",
    "\n",
    "- Breakpoints are specific locations in the code where you want the debugger to pause execution and allow you to examine the program's state."
   ]
  },
  {
   "attachments": {},
   "cell_type": "markdown",
   "metadata": {},
   "source": []
  }
 ],
 "metadata": {
  "kernelspec": {
   "display_name": "base",
   "language": "python",
   "name": "python3"
  },
  "language_info": {
   "codemirror_mode": {
    "name": "ipython",
    "version": 3
   },
   "file_extension": ".py",
   "mimetype": "text/x-python",
   "name": "python",
   "nbconvert_exporter": "python",
   "pygments_lexer": "ipython3",
   "version": "3.10.9"
  },
  "orig_nbformat": 4
 },
 "nbformat": 4,
 "nbformat_minor": 2
}
