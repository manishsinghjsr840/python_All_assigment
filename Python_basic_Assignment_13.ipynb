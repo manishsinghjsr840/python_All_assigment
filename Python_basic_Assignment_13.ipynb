{
 "cells": [
  {
   "attachments": {},
   "cell_type": "markdown",
   "metadata": {},
   "source": [
    "## Python Assignment_\n",
    "\n",
    "## FSDS_2.0\n",
    "\n",
    "Submitted by - Akshay Gaidhani"
   ]
  },
  {
   "attachments": {},
   "cell_type": "markdown",
   "metadata": {},
   "source": [
    "1. What advantages do Excel spreadsheets have over CSV spreadsheets?\n",
    "2. What do you pass to csv.reader() and csv.writer() to create reader and writer objects?\n",
    "3. What modes do File objects for reader and writer objects need to be opened in?\n",
    "4. What method takes a list argument and writes it to a CSV file?\n",
    "5. What do the keyword arguments delimiter and line terminator do?\n",
    "6. What function takes a string of JSON data and returns a Python data structure?\n",
    "7. What function takes a Python data structure and returns a string of JSON data?"
   ]
  },
  {
   "attachments": {},
   "cell_type": "markdown",
   "metadata": {},
   "source": [
    "### Solutions"
   ]
  },
  {
   "attachments": {},
   "cell_type": "markdown",
   "metadata": {},
   "source": [
    "1. What advantages do Excel spreadsheets have over CSV spreadsheets?\n",
    "\n",
    "- Excel spreadsheets provide a more robust data structure compared to CSV files. \n",
    "- Excel provides a wide range of built-in formulas and functions that enable you to perform complex calculations and data manipulations.\n",
    "- They support multiple sheets within a single file, allowing you to organize and manage data in a hierarchical manner. \n",
    "- Excel offers extensive formatting options to customize the appearance of your data. like styles, such as fonts, colors, borders, and cell alignments.\n",
    "- Excel supports the use of macros, which are recorded or written scripts that automate repetitive tasks or perform complex operations\n",
    "- Excel also provides the user option for external linking of data from other sources, and also, the user can do custom add-ins.\n",
    "- Excel spreadsheets facilitate collaboration among multiple users. You can share Excel files with others, define different levels of access"
   ]
  },
  {
   "cell_type": "code",
   "execution_count": 3,
   "metadata": {},
   "outputs": [
    {
     "name": "stdout",
     "output_type": "stream",
     "text": [
      "['Name', '     \"Sex\"', ' \"Age\"', ' \"Height (in)\"', ' \"Weight (lbs)\"']\n",
      "['Alex', '       \"M\"', '   41', '       74', '      170']\n",
      "['Bert', '       \"M\"', '   42', '       68', '      166']\n",
      "['Carl', '       \"M\"', '   32', '       70', '      155']\n",
      "['Dave', '       \"M\"', '   39', '       72', '      167']\n",
      "['Elly', '       \"F\"', '   30', '       66', '      124']\n",
      "['Fran', '       \"F\"', '   33', '       66', '      115']\n",
      "['Gwen', '       \"F\"', '   26', '       64', '      121']\n",
      "['Hank', '       \"M\"', '   30', '       71', '      158']\n",
      "['Ivan', '       \"M\"', '   53', '       72', '      175']\n",
      "['Jake', '       \"M\"', '   32', '       69', '      143']\n",
      "['Kate', '       \"F\"', '   47', '       69', '      139']\n",
      "['Luke', '       \"M\"', '   34', '       72', '      163']\n",
      "['Myra', '       \"F\"', '   23', '       62', '       98']\n",
      "['Neil', '       \"M\"', '   36', '       75', '      160']\n",
      "['Omar', '       \"M\"', '   38', '       70', '      145']\n",
      "['Page', '       \"F\"', '   31', '       67', '      135']\n",
      "['Quin', '       \"M\"', '   29', '       71', '      176']\n",
      "['Ruth', '       \"F\"', '   28', '       65', '      131']\n",
      "[]\n"
     ]
    }
   ],
   "source": [
    "# 2. What do you pass to csv.reader() and csv.writer() to create reader and writer objects?\n",
    "\n",
    "import csv\n",
    "\n",
    "with open(\"biostats.csv\",mode = \"r\") as sample:\n",
    "    CSV_Reader = csv.reader(sample) # Reader object\n",
    "\n",
    "    for lines in CSV_Reader:\n",
    "        print(lines)\n",
    "\n",
    "with open(\"new_sample.csv\",mode= \"w\",newline='') as sample1:\n",
    "    CSV_Writer = csv.writer(sample1) # Writer object\n",
    "\n"
   ]
  },
  {
   "attachments": {},
   "cell_type": "markdown",
   "metadata": {},
   "source": [
    "3. What modes do File objects for reader and writer objects need to be opened in?\n",
    "\n",
    "- For a reader object (csv.reader()), the File object needs to be opened in read mode ('r').\n",
    "- For a writer object (csv.writer()), the File object needs to be opened in write mode ('w').\n",
    "\n",
    "\n",
    "- #'r'\topen for reading (default) # Reader object\n",
    "- #'w'\topen for writing, truncating the file first # Writer object\n",
    "- #'x'\tcreate a new file and open it for writing\n",
    "- #'a'\topen for writing, appending to the end of the file if it exists\n",
    "- #'b'\tbinary mode\n",
    "- #'t'\ttext mode (default)\n",
    "- #'+'\topen a disk file for updating (reading and writing)\n",
    "- #'U'\tuniversal newline mode (deprecated)\n"
   ]
  },
  {
   "cell_type": "code",
   "execution_count": 5,
   "metadata": {},
   "outputs": [
    {
     "name": "stdout",
     "output_type": "stream",
     "text": [
      "['Akshay', 'Hemraj', 'Gaidhani']\n",
      "['Ram', 'Shyam', 'Gaidhani']\n"
     ]
    }
   ],
   "source": [
    "# 4. What method takes a list argument and writes it to a CSV file?\n",
    "\n",
    "# The writerow() method in the csv.writer object is used to write a list of values as a single row to a CSV file.\n",
    "\n",
    "with open(\"output.csv\",mode=\"w\",newline='') as output:\n",
    "    Writer_csv = csv.writer(output)\n",
    "\n",
    "    Writer_csv.writerow([\"Akshay\",\"Hemraj\",\"Gaidhani\"])\n",
    "    Writer_csv.writerow([\"Ram\",\"Shyam\",\"Gaidhani\"])\n",
    "\n",
    "with open(\"output.csv\", \"r\") as file:\n",
    "    reader_csv = csv.reader(file)\n",
    "\n",
    "    for lines in reader_csv:\n",
    "        print(lines)"
   ]
  },
  {
   "attachments": {},
   "cell_type": "markdown",
   "metadata": {},
   "source": [
    "5. What do the keyword arguments delimiter and line terminator do?\n",
    "\n",
    "- The delimiter argument specifies the character used to separate individual fields (values) within a single row in the CSV file. By default, the delimiter is a comma (,), which is commonly used in CSV files.\n",
    "- The line_terminator argument specifies the character(s) used to terminate each line (row) in the CSV file."
   ]
  },
  {
   "cell_type": "code",
   "execution_count": 13,
   "metadata": {},
   "outputs": [
    {
     "name": "stdout",
     "output_type": "stream",
     "text": [
      "{'Name': 'Akshay', 'Surname': 'Gaidhai', 'Mail_id': 'akshaygaidhani5280@hmail.com', 'Place': 'Pune'}\n"
     ]
    }
   ],
   "source": [
    "# 6. What function takes a string of JSON data and returns a Python data structure?\n",
    "\n",
    "# - If we have a JSON string, you can parse it by using the json.loads() method.\n",
    "\n",
    "import json\n",
    "\n",
    "\n",
    "json_data = '{ \"Name\" : \"Akshay\", \"Surname\" : \"Gaidhai\", \"Mail_id\" : \"akshaygaidhani5280@hmail.com\", \"Place\" : \"Pune\"}'\n",
    "\n",
    "python_data = json.loads(json_data)\n",
    "\n",
    "print(python_data)\n"
   ]
  },
  {
   "cell_type": "code",
   "execution_count": 16,
   "metadata": {},
   "outputs": [
    {
     "name": "stdout",
     "output_type": "stream",
     "text": [
      "{\"Name\": \"Akshay\", \"Surname\": \"Gaidhai\", \"Mail_id\": \"akshaygaidhani5280@hmail.com\", \"Place\": \"Pune\"}\n"
     ]
    }
   ],
   "source": [
    "# 7. What function takes a Python data structure and returns a string of JSON data?\n",
    "\n",
    "# json.dumps() is used to convert the Dict_sample dictionary to a JSON-formatted string and store it in the sample_json variable\n",
    "\n",
    "import json\n",
    "\n",
    "Dict_sample = { \"Name\" : \"Akshay\", \"Surname\" : \"Gaidhai\", \"Mail_id\" : \"akshaygaidhani5280@hmail.com\", \"Place\" : \"Pune\"}\n",
    "\n",
    "sample_json = json.dumps(Dict_sample)\n",
    "print(sample_json)\n"
   ]
  },
  {
   "attachments": {},
   "cell_type": "markdown",
   "metadata": {},
   "source": [
    "### Thank you \n",
    "### Happy Learning !"
   ]
  }
 ],
 "metadata": {
  "kernelspec": {
   "display_name": "base",
   "language": "python",
   "name": "python3"
  },
  "language_info": {
   "codemirror_mode": {
    "name": "ipython",
    "version": 3
   },
   "file_extension": ".py",
   "mimetype": "text/x-python",
   "name": "python",
   "nbconvert_exporter": "python",
   "pygments_lexer": "ipython3",
   "version": "3.10.9"
  },
  "orig_nbformat": 4
 },
 "nbformat": 4,
 "nbformat_minor": 2
}
